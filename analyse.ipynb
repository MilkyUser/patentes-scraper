{
 "cells": [
  {
   "cell_type": "code",
   "execution_count": null,
   "id": "08728a1c",
   "metadata": {},
   "outputs": [],
   "source": [
    "import pandas as pd"
   ]
  },
  {
   "cell_type": "code",
   "execution_count": null,
   "id": "9a664182",
   "metadata": {},
   "outputs": [],
   "source": [
    "pd.read_pickle('results.pkl')"
   ]
  }
 ],
 "metadata": {
  "language_info": {
   "name": "python"
  }
 },
 "nbformat": 4,
 "nbformat_minor": 5
}
