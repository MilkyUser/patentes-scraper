{
 "cells": [
  {
   "cell_type": "markdown",
   "id": "462e78a9",
   "metadata": {},
   "source": [
    "https://g1.globo.com/economia/noticia/2025/07/15/tarifaco-de-50percent-ao-brasil-eleva-custos-para-familias-e-afeta-empresas-norte-americanas-dizem-camaras-de-comercio.ghtml"
   ]
  },
  {
   "cell_type": "code",
   "execution_count": 1,
   "id": "3031ad7b",
   "metadata": {},
   "outputs": [],
   "source": [
    "import datetime\n",
    "import pandas as pd\n",
    "import xml.etree.ElementTree as ET"
   ]
  },
  {
   "cell_type": "code",
   "execution_count": 2,
   "id": "df57392e",
   "metadata": {},
   "outputs": [],
   "source": [
    "# Referência: https://www.gov.br/inpi/pt-br/servicos/patentes/informacao-tecnologica \n",
    "# Fonte: https://www.gov.br/inpi/pt-br/servicos/patentes/copy_of_BR_AF_20250103.zip\n",
    "tree = ET.parse('BR_AF_20250103.xml')"
   ]
  },
  {
   "cell_type": "code",
   "execution_count": 3,
   "id": "7731f347",
   "metadata": {},
   "outputs": [],
   "source": [
    "root = tree.getroot()"
   ]
  },
  {
   "cell_type": "code",
   "execution_count": 4,
   "id": "a34319d8",
   "metadata": {},
   "outputs": [],
   "source": [
    "entry_list = []\n",
    "error_count = 0\n",
    "\n",
    "for entry_index, entry in enumerate(root.findall('authority-file-entry')):\n",
    "    \n",
    "    publication_reference = entry.find('publication-reference')\n",
    "    document_id = publication_reference.find('document-id')\n",
    "    country = document_id.findtext('country')\n",
    "    doc_number = document_id.findtext('doc-number')\n",
    "    date = document_id.findtext('date')\n",
    "    kind = document_id.findtext('kind')\n",
    "    entry_list.append({\n",
    "                'country': country,\n",
    "                'doc-number': doc_number,\n",
    "                'kind': kind,\n",
    "                'date': datetime.datetime.strptime(date, \"%Y%m%d\")\n",
    "            })"
   ]
  },
  {
   "cell_type": "code",
   "execution_count": 5,
   "id": "4fbecd6a",
   "metadata": {},
   "outputs": [],
   "source": [
    "df = pd.DataFrame(entry_list)"
   ]
  },
  {
   "cell_type": "code",
   "execution_count": 6,
   "id": "fedb93c1",
   "metadata": {},
   "outputs": [],
   "source": [
    "df = df[(df['kind'] == 'B1') | (df['kind'] == 'Y1')]"
   ]
  },
  {
   "cell_type": "code",
   "execution_count": 7,
   "id": "6c7362e2",
   "metadata": {},
   "outputs": [],
   "source": [
    "df.to_pickle('BR_AF_20250103.pkl')"
   ]
  },
  {
   "cell_type": "code",
   "execution_count": 8,
   "id": "cfa18cb4",
   "metadata": {},
   "outputs": [
    {
     "data": {
      "text/html": [
       "<div>\n",
       "<style scoped>\n",
       "    .dataframe tbody tr th:only-of-type {\n",
       "        vertical-align: middle;\n",
       "    }\n",
       "\n",
       "    .dataframe tbody tr th {\n",
       "        vertical-align: top;\n",
       "    }\n",
       "\n",
       "    .dataframe thead th {\n",
       "        text-align: right;\n",
       "    }\n",
       "</style>\n",
       "<table border=\"1\" class=\"dataframe\">\n",
       "  <thead>\n",
       "    <tr style=\"text-align: right;\">\n",
       "      <th></th>\n",
       "      <th>country</th>\n",
       "      <th>doc-number</th>\n",
       "      <th>kind</th>\n",
       "      <th>date</th>\n",
       "    </tr>\n",
       "  </thead>\n",
       "  <tbody>\n",
       "    <tr>\n",
       "      <th>37</th>\n",
       "      <td>BR</td>\n",
       "      <td>PI0303425</td>\n",
       "      <td>B1</td>\n",
       "      <td>2017-09-05</td>\n",
       "    </tr>\n",
       "    <tr>\n",
       "      <th>46</th>\n",
       "      <td>BR</td>\n",
       "      <td>112013006570</td>\n",
       "      <td>B1</td>\n",
       "      <td>2020-01-21</td>\n",
       "    </tr>\n",
       "    <tr>\n",
       "      <th>54</th>\n",
       "      <td>BR</td>\n",
       "      <td>112017020259</td>\n",
       "      <td>B1</td>\n",
       "      <td>2024-02-27</td>\n",
       "    </tr>\n",
       "    <tr>\n",
       "      <th>58</th>\n",
       "      <td>BR</td>\n",
       "      <td>MU7503070</td>\n",
       "      <td>Y1</td>\n",
       "      <td>2003-04-29</td>\n",
       "    </tr>\n",
       "    <tr>\n",
       "      <th>60</th>\n",
       "      <td>BR</td>\n",
       "      <td>PI9601931</td>\n",
       "      <td>B1</td>\n",
       "      <td>2003-12-23</td>\n",
       "    </tr>\n",
       "    <tr>\n",
       "      <th>...</th>\n",
       "      <td>...</td>\n",
       "      <td>...</td>\n",
       "      <td>...</td>\n",
       "      <td>...</td>\n",
       "    </tr>\n",
       "    <tr>\n",
       "      <th>1147546</th>\n",
       "      <td>BR</td>\n",
       "      <td>PI0810180</td>\n",
       "      <td>B1</td>\n",
       "      <td>2018-10-02</td>\n",
       "    </tr>\n",
       "    <tr>\n",
       "      <th>1147547</th>\n",
       "      <td>BR</td>\n",
       "      <td>MU7600640</td>\n",
       "      <td>Y1</td>\n",
       "      <td>2002-09-03</td>\n",
       "    </tr>\n",
       "    <tr>\n",
       "      <th>1147562</th>\n",
       "      <td>BR</td>\n",
       "      <td>112020019011</td>\n",
       "      <td>B1</td>\n",
       "      <td>2024-05-28</td>\n",
       "    </tr>\n",
       "    <tr>\n",
       "      <th>1147565</th>\n",
       "      <td>BR</td>\n",
       "      <td>PI0413598</td>\n",
       "      <td>B1</td>\n",
       "      <td>2021-01-26</td>\n",
       "    </tr>\n",
       "    <tr>\n",
       "      <th>1147569</th>\n",
       "      <td>BR</td>\n",
       "      <td>PI0102059</td>\n",
       "      <td>B1</td>\n",
       "      <td>2009-07-28</td>\n",
       "    </tr>\n",
       "  </tbody>\n",
       "</table>\n",
       "<p>207213 rows × 4 columns</p>\n",
       "</div>"
      ],
      "text/plain": [
       "        country    doc-number kind       date\n",
       "37           BR     PI0303425   B1 2017-09-05\n",
       "46           BR  112013006570   B1 2020-01-21\n",
       "54           BR  112017020259   B1 2024-02-27\n",
       "58           BR     MU7503070   Y1 2003-04-29\n",
       "60           BR     PI9601931   B1 2003-12-23\n",
       "...         ...           ...  ...        ...\n",
       "1147546      BR     PI0810180   B1 2018-10-02\n",
       "1147547      BR     MU7600640   Y1 2002-09-03\n",
       "1147562      BR  112020019011   B1 2024-05-28\n",
       "1147565      BR     PI0413598   B1 2021-01-26\n",
       "1147569      BR     PI0102059   B1 2009-07-28\n",
       "\n",
       "[207213 rows x 4 columns]"
      ]
     },
     "execution_count": 8,
     "metadata": {},
     "output_type": "execute_result"
    }
   ],
   "source": [
    "df"
   ]
  }
 ],
 "metadata": {
  "kernelspec": {
   "display_name": "venv",
   "language": "python",
   "name": "python3"
  },
  "language_info": {
   "codemirror_mode": {
    "name": "ipython",
    "version": 3
   },
   "file_extension": ".py",
   "mimetype": "text/x-python",
   "name": "python",
   "nbconvert_exporter": "python",
   "pygments_lexer": "ipython3",
   "version": "3.13.5"
  }
 },
 "nbformat": 4,
 "nbformat_minor": 5
}
