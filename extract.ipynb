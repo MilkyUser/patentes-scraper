{
 "cells": [
  {
   "cell_type": "markdown",
   "id": "462e78a9",
   "metadata": {},
   "source": [
    "https://g1.globo.com/economia/noticia/2025/07/15/tarifaco-de-50percent-ao-brasil-eleva-custos-para-familias-e-afeta-empresas-norte-americanas-dizem-camaras-de-comercio.ghtml"
   ]
  },
  {
   "cell_type": "code",
   "execution_count": null,
   "id": "3031ad7b",
   "metadata": {},
   "outputs": [],
   "source": [
    "import datetime\n",
    "import logging\n",
    "import pandas as pd\n",
    "import xml.etree.ElementTree as ET"
   ]
  },
  {
   "cell_type": "code",
   "execution_count": null,
   "id": "23011291",
   "metadata": {},
   "outputs": [],
   "source": [
    "# Configure logging to file\n",
    "logging.basicConfig(\n",
    "    filename='xml_processing.log',\n",
    "    level=logging.INFO,\n",
    "    format='%(asctime)s|%(levelname)s|%(message)s',\n",
    "    datefmt='%Y-%m-%d %H:%M:%S'\n",
    ")"
   ]
  },
  {
   "cell_type": "code",
   "execution_count": 3,
   "id": "df57392e",
   "metadata": {},
   "outputs": [],
   "source": [
    "# Referência: https://www.gov.br/inpi/pt-br/servicos/patentes/informacao-tecnologica \n",
    "# Fonte: https://www.gov.br/inpi/pt-br/servicos/patentes/copy_of_BR_AF_20250103.zip\n",
    "tree = ET.parse('BR_AF_20250103.xml')"
   ]
  },
  {
   "cell_type": "code",
   "execution_count": 4,
   "id": "7731f347",
   "metadata": {},
   "outputs": [],
   "source": [
    "root = tree.getroot()"
   ]
  },
  {
   "cell_type": "code",
   "execution_count": 5,
   "id": "a34319d8",
   "metadata": {},
   "outputs": [],
   "source": [
    "entry_list = []\n",
    "error_count = 0\n",
    "\n",
    "for entry_index, entry in enumerate(root.findall('authority-file-entry')):\n",
    "    \n",
    "    publication_reference = entry.find('publication-reference')\n",
    "\n",
    "    if publication_reference is None:\n",
    "        error_count += 1\n",
    "        logging.error(f\"Missing <publication-reference> in entry {entry_index}\")\n",
    "        continue\n",
    "    \n",
    "    document_id = publication_reference.find('document-id')\n",
    "\n",
    "    if document_id is None:\n",
    "        error_count += 1\n",
    "        logging.error(f\"Missing <document-id> in entry {entry_index}\")\n",
    "        continue\n",
    "\n",
    "    country = document_id.findtext('country')\n",
    "    doc_number = document_id.findtext('doc-number')\n",
    "    date = document_id.findtext('date')\n",
    "    kind = document_id.findtext('kind')\n",
    "    entry_list.append({\n",
    "                'country': country,\n",
    "                'doc-number': doc_number,\n",
    "                'kind': kind,\n",
    "                'date': datetime.datetime.strptime(date, \"%Y%m%d\")\n",
    "            })\n",
    "    \n",
    "logging.info(f\"Processed {len(entry_list) + error_count} entries, \"\n",
    "             f\"success: {len(entry_list)}, \"\n",
    "             f\"errors: {error_count}\")"
   ]
  },
  {
   "cell_type": "code",
   "execution_count": 6,
   "id": "4fbecd6a",
   "metadata": {},
   "outputs": [],
   "source": [
    "df = pd.DataFrame(entry_list)"
   ]
  },
  {
   "cell_type": "code",
   "execution_count": 7,
   "id": "fedb93c1",
   "metadata": {},
   "outputs": [],
   "source": [
    "df = df[(df['kind'] == 'B1') | (df['kind'] == 'Y1')]"
   ]
  },
  {
   "cell_type": "code",
   "execution_count": 11,
   "id": "153e6110",
   "metadata": {},
   "outputs": [],
   "source": [
    "df.to_excel('BR_AF_20250103.xlsx')"
   ]
  },
  {
   "cell_type": "code",
   "execution_count": 13,
   "id": "6c7362e2",
   "metadata": {},
   "outputs": [],
   "source": [
    "df.to_pickle('BR_AF_20250103.pkl')"
   ]
  }
 ],
 "metadata": {
  "kernelspec": {
   "display_name": "venv",
   "language": "python",
   "name": "python3"
  },
  "language_info": {
   "codemirror_mode": {
    "name": "ipython",
    "version": 3
   },
   "file_extension": ".py",
   "mimetype": "text/x-python",
   "name": "python",
   "nbconvert_exporter": "python",
   "pygments_lexer": "ipython3",
   "version": "3.11.6"
  }
 },
 "nbformat": 4,
 "nbformat_minor": 5
}
